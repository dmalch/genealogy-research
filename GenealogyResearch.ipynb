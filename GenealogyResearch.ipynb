{
  "nbformat": 4,
  "nbformat_minor": 0,
  "metadata": {
    "colab": {
      "provenance": [],
      "authorship_tag": "ABX9TyMzxct/9am2verppkgfeQ8V",
      "include_colab_link": true
    },
    "kernelspec": {
      "name": "python3",
      "display_name": "Python 3"
    },
    "language_info": {
      "name": "python"
    }
  },
  "cells": [
    {
      "cell_type": "markdown",
      "metadata": {
        "id": "view-in-github",
        "colab_type": "text"
      },
      "source": [
        "<a href=\"https://colab.research.google.com/github/dmalch/genealogy-research/blob/main/GenealogyResearch.ipynb\" target=\"_parent\"><img src=\"https://colab.research.google.com/assets/colab-badge.svg\" alt=\"Open In Colab\"/></a>"
      ]
    },
    {
      "cell_type": "markdown",
      "source": [
        "Шаг 1. Открыть таблицы с индексированными данными из метрических книг."
      ],
      "metadata": {
        "id": "iG1jFmnhsdrV"
      }
    },
    {
      "cell_type": "code",
      "source": [
        "import pandas as pd\n",
        "from google.colab import auth\n",
        "auth.authenticate_user()\n",
        "\n",
        "import gspread\n",
        "from google.auth import default\n",
        "creds, _ = default()\n",
        "\n",
        "gc = gspread.authorize(creds)\n",
        "\n",
        "# Open the spreadsheet\n",
        "sh = gc.open('Кириллово общий индекс')\n",
        "\n",
        "# Select the worksheet\n",
        "births = sh.worksheet('Рождения')\n",
        "\n",
        "# Get all values from the worksheet\n",
        "birthsData = births.get_all_values()\n",
        "\n",
        "# Convert data to pandas DataFrame\n",
        "births_df = pd.DataFrame(birthsData[1:], columns=birthsData[0])\n",
        "\n",
        "# Now you can work with the DataFrame 'df'\n",
        "print(births_df.head())\n"
      ],
      "metadata": {
        "colab": {
          "base_uri": "https://localhost:8080/"
        },
        "id": "g9M2V97Wsyo_",
        "outputId": "0e39cf77-57b7-4870-a613-dd60b161bd7e"
      },
      "execution_count": 6,
      "outputs": [
        {
          "output_type": "stream",
          "name": "stdout",
          "text": [
            "  Номер муж Номер жен        Дата           Место                      Имя  \\\n",
            "0         1            01.01.1822     с. Кирилово      Ефим Спиридонов [1]   \n",
            "1         2            01.01.1822     с. Кирилово      Василий Сидоров [5]   \n",
            "2                   1  01.01.1822     с. Кирилово  Настасия Харитонова [6]   \n",
            "3         3            02.01.1822  д. Гоголев Бор       Василий Иванов [7]   \n",
            "4         4            02.01.1822  д. Гоголев Бор       Исаия Филиппов [8]   \n",
            "\n",
            "       Имя в документе                    Отец  Отец в документе Мать  \\\n",
            "0      Ефим Спиридонов      Спиридон Фомин [2]    Спиридон Фомин        \n",
            "1      Василий Сидоров    Сидор Ермолаев [235]    Сидор Ермолаев        \n",
            "2  Настасия Харитонова  Харитон Панфенов [236]  Харитон Панфенов        \n",
            "3       Василий Иванов        Иван Иванов [69]       Иван Иванов        \n",
            "4        Исаия Филипов   Василий Исаевич [238]   Василий Исаевич        \n",
            "\n",
            "  Мать в документе         Воспреемник 1 Воспреемник 1 в документе  \\\n",
            "0                     Иван Харитонов [3]            Иван Харитонов   \n",
            "1                     Иван Андреев [292]              Иван Андреев   \n",
            "2                    Павел Федоров [467]             Павел Федоров   \n",
            "3                   Антон Кириллов [468]             Антон Кирилов   \n",
            "4                   Федор Нестеров [469]           Феодор Нестеров   \n",
            "\n",
            "             Воспреемник 2 Воспреемник 2 в документе  \n",
            "0      Ульяна Семенова [4]           Ульяна Семенова  \n",
            "1    Ксения Андреева [510]           Ксения Андреева  \n",
            "2    Домна Парфенова [511]           Домна Парфенова  \n",
            "3       Ефим Ульянов [512]              Ефим Ульянов  \n",
            "4  Матрона Филиппова [513]          Матрона Филипова  \n"
          ]
        }
      ]
    },
    {
      "cell_type": "code",
      "source": [
        "# Extracting a subset of columns\n",
        "children_df = births_df[['Имя в документе', 'Место']]\n",
        "fathers_df = births_df[['Отец в документе', 'Место']]\n",
        "mothers_df = births_df[['Мать в документе', 'Место']]\n",
        "godparent1_df = births_df[['Воспреемник 1 в документе', 'Место']]\n",
        "godparent2_df = births_df[['Воспреемник 2 в документе', 'Место']]\n",
        "\n",
        "children_df.columns = ['Name', 'Place']\n",
        "fathers_df.columns = ['Name', 'Place']\n",
        "mothers_df.columns = ['Name', 'Place']\n",
        "godparent1_df.columns = ['Name', 'Place']\n",
        "godparent2_df.columns = ['Name', 'Place']\n",
        "\n",
        "combined_df = pd.concat([children_df, fathers_df, mothers_df, godparent1_df, godparent2_df], ignore_index=True)\n",
        "\n",
        "# Displaying the new DataFrames\n",
        "# print(children_df.head())\n",
        "# print(fathers_df.head())\n",
        "# print(mothers_df.head())\n",
        "# print(godparent1_df.head())\n",
        "# print(godparent2_df.head())\n",
        "print(combined_df.head())\n",
        "print(combined_df.tail())\n",
        "print(combined_df.info())\n",
        "print(combined_df.describe())"
      ],
      "metadata": {
        "colab": {
          "base_uri": "https://localhost:8080/"
        },
        "id": "msIYV5MXxRnC",
        "outputId": "2aedf11b-4f0c-4218-b836-f37d725e38c0"
      },
      "execution_count": 17,
      "outputs": [
        {
          "output_type": "stream",
          "name": "stdout",
          "text": [
            "                  Name           Place\n",
            "0      Ефим Спиридонов     с. Кирилово\n",
            "1      Василий Сидоров     с. Кирилово\n",
            "2  Настасия Харитонова     с. Кирилово\n",
            "3       Василий Иванов  д. Гоголев Бор\n",
            "4        Исаия Филипов  д. Гоголев Бор\n",
            "                     Name         Place\n",
            "1485        Ирина Аникина  с. Кирилово \n",
            "1486  Анисья Савастьянова  с. Кирилово \n",
            "1487     Евдокия Семенова  с. Кирилово \n",
            "1488       Марья Миронова  с. Кирилово \n",
            "1489      Анна Григорьева  с. Кирилово \n",
            "<class 'pandas.core.frame.DataFrame'>\n",
            "RangeIndex: 1490 entries, 0 to 1489\n",
            "Data columns (total 2 columns):\n",
            " #   Column  Non-Null Count  Dtype \n",
            "---  ------  --------------  ----- \n",
            " 0   Name    1490 non-null   object\n",
            " 1   Place   1490 non-null   object\n",
            "dtypes: object(2)\n",
            "memory usage: 23.4+ KB\n",
            "None\n",
            "        Name        Place\n",
            "count   1490         1490\n",
            "unique  1005            4\n",
            "top           с. Кирилово\n",
            "freq     297         1045\n"
          ]
        }
      ]
    },
    {
      "cell_type": "code",
      "source": [],
      "metadata": {
        "id": "k_ruqXaEyLvm"
      },
      "execution_count": null,
      "outputs": []
    }
  ]
}